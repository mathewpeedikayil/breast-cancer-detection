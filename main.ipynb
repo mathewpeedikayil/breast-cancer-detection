{
 "cells": [
  {
   "cell_type": "markdown",
   "id": "4fff4b61",
   "metadata": {},
   "source": [
    "# Breast Cancer Detection"
   ]
  },
  {
   "cell_type": "markdown",
   "id": "ea4a1a27",
   "metadata": {},
   "source": []
  }
 ],
 "metadata": {
  "language_info": {
   "name": "python"
  }
 },
 "nbformat": 4,
 "nbformat_minor": 5
}
