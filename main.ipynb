{
 "cells": [
  {
   "cell_type": "markdown",
   "id": "4fff4b61",
   "metadata": {},
   "source": [
    "# Breast Cancer Detection"
   ]
  },
  {
   "cell_type": "markdown",
   "id": "81eaecfa",
   "metadata": {},
   "source": [
    "## References"
   ]
  },
  {
   "cell_type": "markdown",
   "id": "3d7a7b3e",
   "metadata": {},
   "source": [
    "1. Logistic Regression Project: Cancer Prediction with Python\n",
    "    - https://www.youtube.com/watch?v=My4JgIeFdWk\n",
    "\n",
    "2. Breast Cancer Wisconsin (Diagnostic) Data Set\n",
    "    - https://www.kaggle.com/datasets/uciml/breast-cancer-wisconsin-data"
   ]
  }
 ],
 "metadata": {
  "language_info": {
   "name": "python"
  }
 },
 "nbformat": 4,
 "nbformat_minor": 5
}
